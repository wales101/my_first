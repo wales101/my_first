{
 "cells": [
  {
   "cell_type": "code",
   "execution_count": 1,
   "metadata": {},
   "outputs": [],
   "source": [
    "from bs4 import BeautifulSoup\n",
    "from urllib.request import urlopen\n",
    "import pandas as pd\n",
    "import numpy as np"
   ]
  },
  {
   "cell_type": "code",
   "execution_count": 3,
   "metadata": {},
   "outputs": [
    {
     "data": {
      "text/plain": [
       "<p>Newegg.com - A great place to buy computers, computer parts, electronics, software, accessories, and DVDs online. With great prices, fast shipping, and top-rated customer service - Newegg shopping upgraded ™</p>"
      ]
     },
     "execution_count": 3,
     "metadata": {},
     "output_type": "execute_result"
    }
   ],
   "source": [
    "my_url = 'https://www.newegg.com/Video-Cards-Video-Devices/Category/ID-38?Tpk=graphics%20card'\n",
    "uClient = urlopen(my_url)\n",
    "\n",
    "page_html = uClient.read()\n",
    "\n",
    "uClient.close()\n",
    "\n",
    "soup = BeautifulSoup(page_html, 'html.parser')\n",
    "\n",
    "soup.body"
   ]
  },
  {
   "cell_type": "code",
   "execution_count": 9,
   "metadata": {},
   "outputs": [
    {
     "data": {
      "text/plain": [
       "<div class=\"item-container\">\n",
       "<!--product image-->\n",
       "<a class=\"item-img\" href=\"https://www.newegg.com/evga-geforce-rtx-2080-ti-11g-p4-2281-kr/p/N82E16814487418?Item=N82E16814487418\">\n",
       "<div class=\"item-badges\">\n",
       "</div>\n",
       "<img alt=\"EVGA GeForce RTX 2080 Ti DirectX 12 11G-P4-2281-KR 11GB 352-Bit GDDR6 PCI Express 3.0 HDCP Ready SLI Support BLACK EDITION GAMING Video Card, Dual HDB Fans &amp; RGB LED\" class=\"lazy-img\" data-effect=\"fadeIn\" data-src=\"//c1.neweggimages.com/NeweggImage/ProductImageCompressAll300/14-487-418-V09.jpg\" src=\"//c1.neweggimages.com/WebResource/Themes/2005/Nest/blank.gif\" title=\"EVGA GeForce RTX 2080 Ti DirectX 12 11G-P4-2281-KR 11GB 352-Bit GDDR6 PCI Express 3.0 HDCP Ready SLI Support BLACK EDITION GAMING Video Card, Dual HDB Fans &amp; RGB LED\">\n",
       "</img></a>\n",
       "<div class=\"item-info\">\n",
       "<!--brand info-->\n",
       "<div class=\"item-branding\">\n",
       "<a class=\"item-brand\" href=\"https://www.newegg.com/EVGA/BrandStore/ID-1402\">\n",
       "<img alt=\"EVGA\" class=\"lazy-img\" data-effect=\"fadeIn\" data-src=\"//c1.neweggimages.com/Brandimage_70x28//Brand1402.gif\" src=\"//c1.neweggimages.com/WebResource/Themes/2005/Nest/blank.gif\" title=\"EVGA\">\n",
       "</img></a>\n",
       "<!--rating info-->\n",
       "<a class=\"item-rating\" href=\"https://www.newegg.com/evga-geforce-rtx-2080-ti-11g-p4-2281-kr/p/N82E16814487418?Item=N82E16814487418&amp;SortField=0&amp;SummaryType=0&amp;PageSize=10&amp;SelectedRating=-1&amp;VideoOnlyMark=False&amp;IsFeedbackTab=true#scrollFullInfo\" title=\"Rating + 5\"><i class=\"rating rating-5\"></i><span class=\"item-rating-num\">(28)</span></a>\n",
       "</div>\n",
       "<!--description info-->\n",
       "<a class=\"item-title\" href=\"https://www.newegg.com/evga-geforce-rtx-2080-ti-11g-p4-2281-kr/p/N82E16814487418?Item=N82E16814487418\" title=\"View Details\"><i class=\"icon-premier icon-premier-xsm\"></i>EVGA GeForce RTX 2080 Ti DirectX 12 11G-P4-2281-KR BLACK EDITION GAMING Video Card, Dual HDB Fans &amp; RGB LED</a>\n",
       "<!--promption info-->\n",
       "<p class=\"item-promo\"><i class=\"item-promo-icon\"></i>Buy GeForce RTX™, Get Call of Duty: Modern Warfare™, limited offer</p>\n",
       "<!--feature-->\n",
       "<ul class=\"item-features\">\n",
       "<li><strong>Max Resolution:</strong> 7680 x 4320</li><li><strong>DisplayPort:</strong> 3 x DisplayPort 1.4</li><li><strong>HDMI:</strong> 1 x HDMI 2.0b</li><li><strong>Card Dimensions (L x H):</strong> 10.60\" x 4.50\"</li>\n",
       "<li><strong>Model #: </strong>11G-P4-2281-KR</li>\n",
       "<li><strong>Item #: </strong>N82E16814487418</li>\n",
       "</ul>\n",
       "<div class=\"item-action\">\n",
       "<!--price-->\n",
       "<ul class=\"price has-label-membership\">\n",
       "<li class=\"price-was\">\n",
       "</li>\n",
       "<li class=\"price-map\">\n",
       "</li>\n",
       "<li class=\"price-current\">\n",
       "<span class=\"price-current-label\">\n",
       "<a aria-label=\"Premier Price Explaination\" class=\"membership-info membership-popup\" data-neg-popid=\"MembershipPopup\" href=\"javascript:void(0);\" name=\"membership\" style=\"display: inline\"><span class=\"membership-icon\"></span><span style=\"display: none\">|</span></a>\n",
       "</span>$<strong>1,149</strong><sup>.99</sup> <a class=\"price-current-num\" href=\"https://www.newegg.com/evga-geforce-rtx-2080-ti-11g-p4-2281-kr/p/N82E16814487418?Item=N82E16814487418&amp;buyingoptions=New\">(19 Offers)</a>\n",
       "<span class=\"price-current-range\">\n",
       "<abbr title=\"to\">–</abbr>\n",
       "</span>\n",
       "</li>\n",
       "<li class=\"price-save\">\n",
       "<span class=\"price-save-endtime price-save-endtime-current\"></span>\n",
       "<span class=\"price-save-endtime price-save-endtime-another\" style=\"display:none;\"></span>\n",
       "</li>\n",
       "<li class=\"price-note\">\n",
       "</li>\n",
       "<li class=\"price-ship\">\n",
       "        $6.99 Shipping\n",
       "    </li>\n",
       "</ul>\n",
       "<!--egg point-->\n",
       "<!--financing-->\n",
       "<!--button-->\n",
       "<div class=\"item-operate hidden-action-button\">\n",
       "<div class=\"item-button-area\">\n",
       "<button class=\"btn btn-mini\" onclick=\"Javascript:Biz.ProductList.Item.add('https://www.newegg.com/evga-geforce-rtx-2080-ti-11g-p4-2281-kr/p/N82E16814487418?Item=N82E16814487418');\" title=\"View Details\" type=\"button\">View Details <i class=\"fa fa-caret-right\"></i>\n",
       "</button>\n",
       "</div>\n",
       "<!--compare-->\n",
       "<div class=\"item-compare-box\">\n",
       "<label class=\"form-checkbox\">\n",
       "<input autocomplete=\"off\" name=\"CompareItem\" neg-itemnumber=\"14-487-418\" type=\"checkbox\" value=\"CompareItem_14-487-418\"/>\n",
       "<span class=\"form-checkbox-title\">Compare</span>\n",
       "</label>\n",
       "</div>\n",
       "<script type=\"text/javascript\">\n",
       "                            \n",
       "                                Biz.Product.CompareConfig2019.compareItems.push(\"14-487-418\");\n",
       "                                var itemThumbs = new Object();\n",
       "                                itemThumbs.subCategoryId = 48;\n",
       "                                itemThumbs.subCategoryDescription = \"Desktop Graphics Cards\";\n",
       "                                itemThumbs.itemNumber = \"14-487-418\";\n",
       "                                itemThumbs.imageUrl = \"//c1.neweggimages.com/ProductImageCompressAll35/14-487-418-V09.jpg\";\n",
       "                                itemThumbs.description = \"EVGA GeForce RTX 2080 Ti DirectX 12 11G-P4-2281-KR BLACK EDITION GAMING Video Card, Dual HDB Fans &#38; RGB LED\";\n",
       "                                itemThumbs.productUrl = \"/evga-geforce-rtx-2080-ti-11g-p4-2281-kr/p/N82E16814487418?Item=N82E16814487418\";\n",
       "                                Biz.Product.CompareConfig2019.Thumbs.push(itemThumbs);\n",
       "                            \n",
       "                    </script>\n",
       "</div>\n",
       "<!--ExtendWarranty PopUp-->\n",
       "<input class=\"open-popup\" id=\"ew_N82E16814487418\" type=\"hidden\">\n",
       "<input class=\"open-popup\" id=\"ew_MainItemFailedAddToCart_N82E16814487418\" type=\"hidden\">\n",
       "</input></input></div>\n",
       "</div>\n",
       "<div class=\"item-stock\" id=\"stock_14-487-418\">\n",
       "</div>\n",
       "</div>"
      ]
     },
     "execution_count": 9,
     "metadata": {},
     "output_type": "execute_result"
    }
   ],
   "source": [
    "containers = soup.find_all(\"div\", {\"class\": \"item-container\"})\n",
    "#len(containers)                                   \n",
    "\n",
    "containers[0]\n"
   ]
  },
  {
   "cell_type": "code",
   "execution_count": 27,
   "metadata": {},
   "outputs": [],
   "source": [
    "container = containers[0]\n",
    "#contained = container.find_all(\"a\", {\"class\": \"item-brand\"})"
   ]
  },
  {
   "cell_type": "code",
   "execution_count": 61,
   "metadata": {},
   "outputs": [],
   "source": [
    "#contained[0].img[\"title\"]\n",
    "\n",
    "#name = container.find_all(\"a\", {\"class\" : \"item-title\"})\n",
    "\n",
    "#name[0].text\n",
    "\n",
    "#price = container.find_all(\"li\", {\"class\" : \"price-ship\"})\n",
    "\n",
    "#price_list = price[0].text\n",
    "\n",
    "#price_list\n",
    "\n",
    "price = container.find_all(\"li\", {\"class\":\"price-current\"})\n",
    "\n",
    "my_price = price[0].strong.text"
   ]
  },
  {
   "cell_type": "code",
   "execution_count": 62,
   "metadata": {},
   "outputs": [
    {
     "name": "stdout",
     "output_type": "stream",
     "text": [
      "brand: EVGA\n",
      "product_name: EVGA GeForce RTX 2080 Ti DirectX 12 11G-P4-2281-KR BLACK EDITION GAMING Video Card, Dual HDB Fans & RGB LED\n",
      "shipping: $6.99 Shipping\n",
      "brand: MSI\n",
      "product_name: MSI GeForce RTX 2080 GAMING X TRIO Video Card\n",
      "shipping: Free Shipping\n",
      "brand: GIGABYTE\n",
      "product_name: GIGABYTE GeForce RTX 2070 Super WINDFORCE OC 3X 8G Graphics Card, GV-N207SWF3OC-8GD\n",
      "shipping: Free Shipping\n",
      "brand: ASUS\n",
      "product_name: ASUS TUF Gaming X3 AMD Radeon RX 5700 XT Overclocked 8G GDDR6 Gaming Graphics Card (TUF 3-RX5700XT-O8G-GAMING)\n",
      "shipping: Free Shipping\n",
      "brand: Sapphire Tech\n",
      "product_name: SAPPHIRE NITRO+ Radeon RX 5700 XT 100416NT+8GSR Video Card\n",
      "shipping: Free Shipping\n",
      "brand: ASUS\n",
      "product_name: ASUS TUF Gaming X3 AMD Radeon RX 5700 Overclocked 8G GDDR6 Gaming Graphics Card (TUF 3-RX5700-O8G-GAMING)\n",
      "shipping: Free Shipping\n",
      "brand: EVGA\n",
      "product_name: EVGA GeForce RTX 2070 SUPER XC ULTRA GAMING, 08G-P4-3173-KR\n",
      "shipping: Free Shipping\n",
      "brand: ZOTAC\n",
      "product_name: ZOTAC GeForce RTX 2070 DirectX 12 ZT-T20700E-10P Video Card\n",
      "shipping: Free Shipping\n",
      "brand: GIGABYTE\n",
      "product_name: GIGABYTE GeForce RTX 2070 WINDFORCE 8G (Rev 3.0) Graphics Card, 2 x WINDFORCE Fans, GV-N2070WF2-8GD (Rev 3.0)\n",
      "shipping: Free Shipping\n",
      "brand: XFX\n",
      "product_name: XFX RS XXX Edition Radeon RX 570 DirectX 12 RX-570P427D6 4GB OC+ 1284 MHz XFX Custom Backplate 256-Bit DDR5 PCI Express 3.0 CrossFireX Support Video Card\n",
      "shipping: Free Shipping\n",
      "brand: ZOTAC\n",
      "product_name: ZOTAC GeForce GTX 1060 DirectX 12 ZT-P10620A-10M Video Card\n",
      "shipping: Free Shipping\n",
      "brand: ASRock\n",
      "product_name: ASRock Radeon RX 5700 XT DirectX 12 RX 5700 XT TAICHI X 8G OC+ Video Card\n",
      "shipping: Free Shipping\n"
     ]
    }
   ],
   "source": [
    "filename = \"product.csv\"\n",
    "\n",
    "f = open(filename, \"w\")\n",
    "\n",
    "headers = \"brand, product_name, shipping, price\\n\"\n",
    "\n",
    "f.write(headers)\n",
    "\n",
    "for container in containers:\n",
    "    \n",
    "    contained = container.find_all(\"a\", {\"class\": \"item-brand\"})\n",
    "    \n",
    "    brand = contained[0].img[\"title\"]\n",
    "    \n",
    "    title_container = container.find_all(\"a\", {\"class\" : \"item-title\"})\n",
    "    \n",
    "    product_name = title_container[0].text\n",
    "    \n",
    "    shipping_container = container.find_all(\"li\", {\"class\" : \"price-ship\"})\n",
    "    \n",
    "    shipping = shipping_container[0].text.strip()\n",
    "    \n",
    "    price_container = container.find_all(\"li\", {\"class\":\"price-current\"})\n",
    "    \n",
    "    price = price_container[0].strong.text\n",
    "    \n",
    "    print(\"brand: \" + brand)\n",
    "    \n",
    "    print(\"product_name: \" + product_name)\n",
    "    \n",
    "    print(\"shipping: \" + shipping)\n",
    "    \n",
    "    f.write(brand + \",\" + product_name.replace(\",\", \"|\") + \",\" + shipping+ \",\" + price + \"\\n\")\n",
    "\n",
    "f.close()\n",
    "    "
   ]
  },
  {
   "cell_type": "code",
   "execution_count": null,
   "metadata": {},
   "outputs": [],
   "source": []
  },
  {
   "cell_type": "code",
   "execution_count": null,
   "metadata": {},
   "outputs": [],
   "source": []
  },
  {
   "cell_type": "code",
   "execution_count": null,
   "metadata": {},
   "outputs": [],
   "source": []
  },
  {
   "cell_type": "code",
   "execution_count": null,
   "metadata": {},
   "outputs": [],
   "source": []
  }
 ],
 "metadata": {
  "kernelspec": {
   "display_name": "Python 3",
   "language": "python",
   "name": "python3"
  },
  "language_info": {
   "codemirror_mode": {
    "name": "ipython",
    "version": 3
   },
   "file_extension": ".py",
   "mimetype": "text/x-python",
   "name": "python",
   "nbconvert_exporter": "python",
   "pygments_lexer": "ipython3",
   "version": "3.7.4"
  }
 },
 "nbformat": 4,
 "nbformat_minor": 2
}
